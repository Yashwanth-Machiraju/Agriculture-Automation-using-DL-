{
 "cells": [
  {
   "cell_type": "code",
   "execution_count": 4,
   "metadata": {},
   "outputs": [
    {
     "name": "stderr",
     "output_type": "stream",
     "text": [
      "Using TensorFlow backend.\n"
     ]
    }
   ],
   "source": [
    "from keras.preprocessing.image import ImageDataGenerator\n",
    "from keras.models import Sequential\n",
    "from keras.layers import Conv2D,MaxPooling2D\n",
    "from keras.layers import Activation,Dropout,Flatten, Dense\n",
    "from keras import backend as K\n",
    "import numpy as np\n",
    "from keras.preprocessing import image\n",
    "import tkinter \n",
    "from tkinter import messagebox\n",
    "\n"
   ]
  },
  {
   "cell_type": "markdown",
   "metadata": {},
   "source": []
  },
  {
   "cell_type": "code",
   "execution_count": 17,
   "metadata": {},
   "outputs": [],
   "source": [
    "img_width,img_height=200,200\n",
    "train_data_dir='F:\\Mini Project\\Datasets\\Maize\\Train'\n",
    "validation_data_dir='F:\\Mini Project\\Datasets\\Maize\\Validation'\n",
    "no_training_samples=200\n",
    "no_validation_samples=50\n",
    "epochs=10\n",
    "batch_size=20\n",
    "\n"
   ]
  },
  {
   "cell_type": "code",
   "execution_count": 18,
   "metadata": {},
   "outputs": [],
   "source": [
    "if K.image_data_format()=='channels_first':  \n",
    "    input_shape=(3,img_width, img_height)\n",
    "else:\n",
    "    input_shape=(img_width, img_height, 3)\n",
    "    "
   ]
  },
  {
   "cell_type": "code",
   "execution_count": 19,
   "metadata": {},
   "outputs": [],
   "source": [
    "train_datagen=ImageDataGenerator(\n",
    "    rescale=1./255,\n",
    "    shear_range=0.2,\n",
    "    zoom_range=0.2,\n",
    "    horizontal_flip=True\n",
    ")"
   ]
  },
  {
   "cell_type": "code",
   "execution_count": 20,
   "metadata": {},
   "outputs": [
    {
     "name": "stdout",
     "output_type": "stream",
     "text": [
      "Found 416 images belonging to 2 classes.\n"
     ]
    }
   ],
   "source": [
    "test_datagen=ImageDataGenerator(rescale=1./255)\n",
    "\n",
    "train_generator=train_datagen.flow_from_directory(\n",
    "    train_data_dir,\n",
    "    target_size=(img_width,img_height),\n",
    "    batch_size=batch_size,\n",
    "    class_mode='binary')"
   ]
  },
  {
   "cell_type": "code",
   "execution_count": 21,
   "metadata": {},
   "outputs": [
    {
     "name": "stdout",
     "output_type": "stream",
     "text": [
      "Found 117 images belonging to 2 classes.\n"
     ]
    }
   ],
   "source": [
    "\n",
    "validation_generator=test_datagen.flow_from_directory(\n",
    "    validation_data_dir,\n",
    "    target_size=(img_width,img_height),\n",
    "    batch_size=batch_size,\n",
    "    class_mode='binary')"
   ]
  },
  {
   "cell_type": "code",
   "execution_count": 23,
   "metadata": {},
   "outputs": [
    {
     "name": "stdout",
     "output_type": "stream",
     "text": [
      "Model: \"sequential_5\"\n",
      "_________________________________________________________________\n",
      "Layer (type)                 Output Shape              Param #   \n",
      "=================================================================\n",
      "conv2d_13 (Conv2D)           (None, 198, 198, 32)      896       \n",
      "_________________________________________________________________\n",
      "activation_29 (Activation)   (None, 198, 198, 32)      0         \n",
      "_________________________________________________________________\n",
      "max_pooling2d_13 (MaxPooling (None, 99, 99, 32)        0         \n",
      "=================================================================\n",
      "Total params: 896\n",
      "Trainable params: 896\n",
      "Non-trainable params: 0\n",
      "_________________________________________________________________\n",
      "Model: \"sequential_5\"\n",
      "_________________________________________________________________\n",
      "Layer (type)                 Output Shape              Param #   \n",
      "=================================================================\n",
      "conv2d_13 (Conv2D)           (None, 198, 198, 32)      896       \n",
      "_________________________________________________________________\n",
      "activation_29 (Activation)   (None, 198, 198, 32)      0         \n",
      "_________________________________________________________________\n",
      "max_pooling2d_13 (MaxPooling (None, 99, 99, 32)        0         \n",
      "_________________________________________________________________\n",
      "conv2d_14 (Conv2D)           (None, 97, 97, 32)        9248      \n",
      "_________________________________________________________________\n",
      "activation_30 (Activation)   (None, 97, 97, 32)        0         \n",
      "_________________________________________________________________\n",
      "max_pooling2d_14 (MaxPooling (None, 48, 48, 32)        0         \n",
      "_________________________________________________________________\n",
      "conv2d_15 (Conv2D)           (None, 46, 46, 64)        18496     \n",
      "_________________________________________________________________\n",
      "activation_31 (Activation)   (None, 46, 46, 64)        0         \n",
      "_________________________________________________________________\n",
      "max_pooling2d_15 (MaxPooling (None, 23, 23, 64)        0         \n",
      "_________________________________________________________________\n",
      "flatten_5 (Flatten)          (None, 33856)             0         \n",
      "_________________________________________________________________\n",
      "dense_17 (Dense)             (None, 64)                2166848   \n",
      "_________________________________________________________________\n",
      "activation_32 (Activation)   (None, 64)                0         \n",
      "_________________________________________________________________\n",
      "dense_18 (Dense)             (None, 64)                4160      \n",
      "_________________________________________________________________\n",
      "activation_33 (Activation)   (None, 64)                0         \n",
      "_________________________________________________________________\n",
      "dense_19 (Dense)             (None, 64)                4160      \n",
      "_________________________________________________________________\n",
      "activation_34 (Activation)   (None, 64)                0         \n",
      "_________________________________________________________________\n",
      "dense_20 (Dense)             (None, 1)                 65        \n",
      "_________________________________________________________________\n",
      "activation_35 (Activation)   (None, 1)                 0         \n",
      "=================================================================\n",
      "Total params: 2,203,873\n",
      "Trainable params: 2,203,873\n",
      "Non-trainable params: 0\n",
      "_________________________________________________________________\n"
     ]
    }
   ],
   "source": [
    "model=Sequential()\n",
    "model.add(Conv2D(32,(3,3),input_shape=input_shape))\n",
    "model.add(Activation('relu'))\n",
    "model.add(MaxPooling2D(pool_size=(2,2)))\n",
    "\n",
    "model.summary()\n",
    "\n",
    "\n",
    "\n",
    "model.add(Conv2D(32,(3,3),input_shape=input_shape))\n",
    "model.add(Activation('relu'))\n",
    "model.add(MaxPooling2D(pool_size=(2,2)))\n",
    "\n",
    "model.add(Conv2D(64,(3,3),input_shape=input_shape))\n",
    "model.add(Activation('relu'))\n",
    "model.add(MaxPooling2D(pool_size=(2,2)))\n",
    "\n",
    "\n",
    "\n",
    "model.add(Flatten())\n",
    "model.add(Dense(64))\n",
    "model.add(Activation('relu'))\n",
    "\n",
    "model.add(Dense(64))\n",
    "model.add(Activation('relu'))\n",
    "\n",
    "model.add(Dense(64))\n",
    "model.add(Activation('relu'))\n",
    "\n",
    "model.add(Dense(1))\n",
    "model.add(Activation('sigmoid'))\n",
    "\n",
    "model.summary()  \n",
    "\n",
    "model.compile(loss='binary_crossentropy',\n",
    "              optimizer='adam',\n",
    "               metrics=['accuracy'])\n"
   ]
  },
  {
   "cell_type": "code",
   "execution_count": 28,
   "metadata": {},
   "outputs": [
    {
     "name": "stdout",
     "output_type": "stream",
     "text": [
      "Epoch 1/10\n",
      "10/10 [==============================] - 11s 1s/step - loss: 0.3619 - accuracy: 0.8622 - val_loss: 1.6029 - val_accuracy: 0.8000\n",
      "Epoch 2/10\n",
      "10/10 [==============================] - 10s 952ms/step - loss: 0.3176 - accuracy: 0.8550 - val_loss: 0.3552 - val_accuracy: 0.9250\n",
      "Epoch 3/10\n",
      "10/10 [==============================] - 10s 951ms/step - loss: 0.2824 - accuracy: 0.8878 - val_loss: 0.2002 - val_accuracy: 0.8378\n",
      "Epoch 4/10\n",
      "10/10 [==============================] - 9s 937ms/step - loss: 0.2419 - accuracy: 0.9100 - val_loss: 0.7788 - val_accuracy: 0.9000\n",
      "Epoch 5/10\n",
      "10/10 [==============================] - 10s 950ms/step - loss: 0.2919 - accuracy: 0.8827 - val_loss: 0.8309 - val_accuracy: 0.8500\n",
      "Epoch 6/10\n",
      "10/10 [==============================] - 10s 1s/step - loss: 0.2699 - accuracy: 0.9200 - val_loss: 0.3845 - val_accuracy: 0.8919\n",
      "Epoch 7/10\n",
      "10/10 [==============================] - 10s 957ms/step - loss: 0.2516 - accuracy: 0.9000 - val_loss: 0.3179 - val_accuracy: 0.9500\n",
      "Epoch 8/10\n",
      "10/10 [==============================] - 9s 939ms/step - loss: 0.2518 - accuracy: 0.8980 - val_loss: 0.5011 - val_accuracy: 0.8500\n",
      "Epoch 9/10\n",
      "10/10 [==============================] - 10s 989ms/step - loss: 0.2517 - accuracy: 0.9000 - val_loss: 0.8494 - val_accuracy: 0.8919\n",
      "Epoch 10/10\n",
      "10/10 [==============================] - 9s 945ms/step - loss: 0.2095 - accuracy: 0.9388 - val_loss: 0.1504 - val_accuracy: 0.8750\n"
     ]
    }
   ],
   "source": [
    "model.compile(loss='binary_crossentropy',\n",
    "             optimizer='adam',\n",
    "             metrics=['accuracy'])\n",
    "\n",
    "model.fit_generator(\n",
    "    train_generator,\n",
    "    steps_per_epoch=no_training_samples// batch_size,\n",
    "    epochs=epochs,\n",
    "    validation_data=validation_generator,\n",
    "    validation_steps=no_validation_samples // batch_size)\n",
    "\n",
    "model.save_weights('first_try2.h5')\n",
    "\n"
   ]
  },
  {
   "cell_type": "code",
   "execution_count": 29,
   "metadata": {},
   "outputs": [],
   "source": [
    "\n",
    "model.save('catsanddogs2.h5')\n",
    "\n",
    "\n",
    "\n"
   ]
  },
  {
   "cell_type": "code",
   "execution_count": null,
   "metadata": {},
   "outputs": [],
   "source": [
    "\n"
   ]
  },
  {
   "cell_type": "code",
   "execution_count": null,
   "metadata": {},
   "outputs": [],
   "source": []
  },
  {
   "cell_type": "code",
   "execution_count": 40,
   "metadata": {},
   "outputs": [],
   "source": [
    " from keras.models import load_model\n",
    " new_model=load_model('catsanddogs2.h5')\n"
   ]
  },
  {
   "cell_type": "code",
   "execution_count": 41,
   "metadata": {},
   "outputs": [
    {
     "name": "stderr",
     "output_type": "stream",
     "text": [
      "Exception in Tkinter callback\n",
      "Traceback (most recent call last):\n",
      "  File \"C:\\Users\\YASHWANTH MACHIRAJU\\Anaconda3\\envs\\yashwanth\\lib\\tkinter\\__init__.py\", line 1705, in __call__\n",
      "    return self.func(*args)\n",
      "  File \"<ipython-input-41-eff5ae18b183>\", line 28, in clickme\n",
      "    img_pred=image.load_img(s,target_size=(200,200))\n",
      "  File \"C:\\Users\\YASHWANTH MACHIRAJU\\Anaconda3\\envs\\yashwanth\\lib\\site-packages\\keras_preprocessing\\image\\utils.py\", line 110, in load_img\n",
      "    img = pil_image.open(path)\n",
      "  File \"C:\\Users\\YASHWANTH MACHIRAJU\\Anaconda3\\envs\\yashwanth\\lib\\site-packages\\PIL\\Image.py\", line 2843, in open\n",
      "    fp = builtins.open(filename, \"rb\")\n",
      "FileNotFoundError: [Errno 2] No such file or directory: 'F:\\\\Mini Project\\\\Datasets\\\\Maize\\\\Validation\\\\1.jpg'\n"
     ]
    },
    {
     "name": "stdout",
     "output_type": "stream",
     "text": [
      "It's the Maize Crop \n",
      "F:\\Mini Project\\Datasets\\Maize\\Validation\\Maize Crop\\1.jpg\n",
      "It's the Maize Crop \n",
      "F:\\Mini Project\\Datasets\\Maize\\Validation\\Maize Crop\\2.jpg\n",
      "It's the Maize Crop \n",
      "F:\\Mini Project\\Datasets\\Maize\\Validation\\Maize Crop\\3.jpg\n",
      "It's the Maize Crop \n",
      "F:\\Mini Project\\Datasets\\Maize\\Validation\\Maize Crop\\4.jpg\n",
      "It's the Maize Crop \n",
      "F:\\Mini Project\\Datasets\\Maize\\Validation\\Maize Crop\\5.jpg\n"
     ]
    },
    {
     "name": "stderr",
     "output_type": "stream",
     "text": [
      "Exception in Tkinter callback\n",
      "Traceback (most recent call last):\n",
      "  File \"C:\\Users\\YASHWANTH MACHIRAJU\\Anaconda3\\envs\\yashwanth\\lib\\tkinter\\__init__.py\", line 1705, in __call__\n",
      "    return self.func(*args)\n",
      "  File \"<ipython-input-41-eff5ae18b183>\", line 28, in clickme\n",
      "    img_pred=image.load_img(s,target_size=(200,200))\n",
      "  File \"C:\\Users\\YASHWANTH MACHIRAJU\\Anaconda3\\envs\\yashwanth\\lib\\site-packages\\keras_preprocessing\\image\\utils.py\", line 110, in load_img\n",
      "    img = pil_image.open(path)\n",
      "  File \"C:\\Users\\YASHWANTH MACHIRAJU\\Anaconda3\\envs\\yashwanth\\lib\\site-packages\\PIL\\Image.py\", line 2843, in open\n",
      "    fp = builtins.open(filename, \"rb\")\n",
      "FileNotFoundError: [Errno 2] No such file or directory: 'F:\\\\Mini Project\\\\Datasets\\\\Maize\\\\Validation\\\\Weed\\\\5.jpg'\n"
     ]
    },
    {
     "name": "stdout",
     "output_type": "stream",
     "text": [
      "It's the Maize Crop \n",
      "F:\\Mini Project\\Datasets\\Maize\\Validation\\/Maize Weed\\5.jpg\n",
      "It's the Weed\n",
      "F:\\Mini Project\\Datasets\\Maize\\Validation\\Maize Weed\\6.jpg\n",
      "It's the Weed\n",
      "F:\\Mini Project\\Datasets\\Maize\\Validation\\Maize Weed\\7.jpg\n",
      "It's the Maize Crop \n",
      "F:\\Mini Project\\Datasets\\Maize\\Validation\\Maize Weed\\8.jpg\n",
      "It's the Weed\n",
      "F:\\Mini Project\\Datasets\\Maize\\Validation\\Maize Weed\\9.jpg\n",
      "It's the Weed\n",
      "F:\\Mini Project\\Datasets\\Maize\\Validation\\Maize Weed\\10.jpg\n"
     ]
    }
   ],
   "source": [
    "import tkinter \n",
    "from tkinter import messagebox\n",
    "from tkinter import *\n",
    "from PIL import Image\n",
    "from PIL import ImageTk\n",
    "from tkinter import ttk\n",
    "\n",
    "window=tkinter.Tk()\n",
    "window.title(\"Weed Detection Software\")\n",
    "label=tkinter.Label(window,text=\"Welcome to Weed Detection Software\",fg=\"orange\",font=(\"Arial Bold\",30)).pack()\n",
    "label1=tkinter.Label(window,text=\"Please upload your image to verify whether it is the image of a crop or a weed\",fg=\"darkblue\",font=(\"Arial Bold\",15)).pack()\n",
    "window.geometry('800x500')\n",
    "bgImage=PhotoImage(file=\"F:\\\\Mini Project\\\\Background\\\\Background.png\")\n",
    "Label(window,image=bgImage).place(relwidth=1,relheight=1)\n",
    "e=tkinter.Entry(window,width=10)\n",
    "e.place(height=20,width=1000,relx=0.3,rely=0.3)\n",
    "\n",
    "\n",
    "\n",
    "\n",
    "\n",
    "def clickme():\n",
    "    \n",
    "   # label2=tkinter.Label(window,text=hello).pack() \n",
    "    global s\n",
    "    s=e.get()\n",
    "    messagebox.showinfo(\"Upload Success!\",\"Upload successful\")\n",
    "    img_pred=image.load_img(s,target_size=(200,200))\n",
    "    img_pred=image.img_to_array(img_pred)\n",
    "    img_pred=np.expand_dims(img_pred,axis=0)\n",
    "\n",
    "    rslt=model.predict(img_pred)\n",
    "    \n",
    "    if rslt[0][0]==1:\n",
    "        prediction=\"It's the Weed\"\n",
    "    else:\n",
    "        prediction=\"It's the Maize Crop \"\n",
    "    print(prediction)\n",
    "   \n",
    "    messagebox.showinfo(\"Prediction Success!\", prediction)\n",
    "    print(s)\n",
    "    \n",
    "\n",
    "txt=tkinter.Entry(window,width=10)\n",
    "\n",
    "bt=tkinter.Button(window,text=\"Upload!\",bg=\"darkblue\",fg=\"white\",command=clickme)\n",
    "label2=tkinter.Label(window,text=\"Enter the location of file in your system\")\n",
    "label2.place(relx=0,rely=0.3)\n",
    "bt.pack()\n",
    "bt.place(height=20, width=100,relx=0.5,rely=0.5) \n",
    "\n",
    "    \n",
    "\n",
    "\n",
    "\n",
    "window.mainloop()\n",
    "\n",
    "\n"
   ]
  },
  {
   "cell_type": "code",
   "execution_count": null,
   "metadata": {},
   "outputs": [],
   "source": []
  },
  {
   "cell_type": "code",
   "execution_count": null,
   "metadata": {},
   "outputs": [],
   "source": []
  },
  {
   "cell_type": "code",
   "execution_count": null,
   "metadata": {},
   "outputs": [],
   "source": []
  },
  {
   "cell_type": "code",
   "execution_count": null,
   "metadata": {},
   "outputs": [],
   "source": []
  },
  {
   "cell_type": "code",
   "execution_count": null,
   "metadata": {},
   "outputs": [],
   "source": []
  },
  {
   "cell_type": "code",
   "execution_count": null,
   "metadata": {},
   "outputs": [],
   "source": []
  }
 ],
 "metadata": {
  "kernelspec": {
   "display_name": "Python 3",
   "language": "python",
   "name": "python3"
  },
  "language_info": {
   "codemirror_mode": {
    "name": "ipython",
    "version": 3
   },
   "file_extension": ".py",
   "mimetype": "text/x-python",
   "name": "python",
   "nbconvert_exporter": "python",
   "pygments_lexer": "ipython3",
   "version": "3.7.6"
  }
 },
 "nbformat": 4,
 "nbformat_minor": 4
}
